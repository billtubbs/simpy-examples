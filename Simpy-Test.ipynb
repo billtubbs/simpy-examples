{
 "cells": [
  {
   "cell_type": "markdown",
   "metadata": {},
   "source": [
    "### What is SimPy?\n",
    "\n",
    "(Not to be confused with sympy, the symbolic math package"
   ]
  },
  {
   "cell_type": "markdown",
   "metadata": {},
   "source": [
    "[SimPy](https://simpy.readthedocs.io/en/latest/) is an object-oriented, process-based discrete-event simulation library for Python.\n",
    "\n",
    "Typical use-cases:\n",
    "- Simulate a parking lot\n",
    "- Bank transactions\n",
    "- ..."
   ]
  },
  {
   "cell_type": "code",
   "execution_count": 1,
   "metadata": {},
   "outputs": [
    {
     "ename": "ImportError",
     "evalue": "No module named SimPy.Simulation",
     "output_type": "error",
     "traceback": [
      "\u001b[0;31m---------------------------------------------------------------------------\u001b[0m",
      "\u001b[0;31mImportError\u001b[0m                               Traceback (most recent call last)",
      "\u001b[0;32m<ipython-input-1-694a3e3c5fd2>\u001b[0m in \u001b[0;36m<module>\u001b[0;34m()\u001b[0m\n\u001b[1;32m      2\u001b[0m \u001b[0;32mimport\u001b[0m \u001b[0mpandas\u001b[0m \u001b[0;32mas\u001b[0m \u001b[0mpd\u001b[0m\u001b[0;34m\u001b[0m\u001b[0m\n\u001b[1;32m      3\u001b[0m \u001b[0;32mimport\u001b[0m \u001b[0mmatplotlib\u001b[0m\u001b[0;34m.\u001b[0m\u001b[0mpyplot\u001b[0m \u001b[0;32mas\u001b[0m \u001b[0mplt\u001b[0m\u001b[0;34m\u001b[0m\u001b[0m\n\u001b[0;32m----> 4\u001b[0;31m \u001b[0;32mimport\u001b[0m \u001b[0mSimPy\u001b[0m\u001b[0;34m.\u001b[0m\u001b[0mSimulation\u001b[0m \u001b[0;32mas\u001b[0m \u001b[0mSim\u001b[0m\u001b[0;34m\u001b[0m\u001b[0m\n\u001b[0m",
      "\u001b[0;31mImportError\u001b[0m: No module named SimPy.Simulation"
     ]
    }
   ],
   "source": [
    "import numpy as np\n",
    "import pandas as pd\n",
    "import matplotlib.pyplot as plt\n",
    "import SimPy.Simulation as Sim"
   ]
  },
  {
   "cell_type": "code",
   "execution_count": null,
   "metadata": {},
   "outputs": [],
   "source": [
    "class Arrival(Sim.Process):\n",
    "    \"\"\" Source generates cars at random\n",
    "        Arrivals are at a time-dependent rate\n",
    "    \"\"\"\n",
    "    def generate(self):\n",
    "        i=0\n",
    "        while (self.sim.now() < G.maxTime):\n",
    "            tnow = self.sim.now()\n",
    "            arrivalrate =  100 + 10 * math.sin(math.pi * tnow/12.0)\n",
    "            t = random.expovariate(arrivalrate)\n",
    "            yield Sim.hold, self, t\n",
    "            c = Car(name=\"Car%02d\" % (i), sim=self.sim)\n",
    "            timeParking = random.expovariate(1.0/G.parkingtime)\n",
    "            self.sim.activate(c, c.visit(timeParking))\n",
    "            i += 1\n",
    "class Car(Sim.Process):\n",
    "    \"\"\" Cars arrives, parks for a while, and leaves\n",
    "        Maintain a count of the number of parked cars as cars arrive and leave\n",
    "    \"\"\"\n",
    "    def visit(self, timeParking=0):\n",
    "        self.sim.parkedcars += 1\n",
    "        self.sim.parking.observe(self.sim.parkedcars)\n",
    "        yield Sim.hold, self, timeParking\n",
    "        self.sim.parkedcars -= 1\n",
    "        self.sim.parking.observe(self.sim.parkedcars)"
   ]
  },
  {
   "cell_type": "code",
   "execution_count": null,
   "metadata": {},
   "outputs": [],
   "source": []
  },
  {
   "cell_type": "code",
   "execution_count": null,
   "metadata": {},
   "outputs": [],
   "source": []
  },
  {
   "cell_type": "code",
   "execution_count": null,
   "metadata": {},
   "outputs": [],
   "source": []
  }
 ],
 "metadata": {
  "kernelspec": {
   "display_name": "Python [conda env:torch]",
   "language": "python",
   "name": "conda-env-torch-py"
  },
  "language_info": {
   "codemirror_mode": {
    "name": "ipython",
    "version": 3
   },
   "file_extension": ".py",
   "mimetype": "text/x-python",
   "name": "python",
   "nbconvert_exporter": "python",
   "pygments_lexer": "ipython3",
   "version": "3.6.10"
  }
 },
 "nbformat": 4,
 "nbformat_minor": 1
}
